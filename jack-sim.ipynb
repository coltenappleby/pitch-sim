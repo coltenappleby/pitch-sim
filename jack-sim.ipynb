{
 "cells": [
  {
   "cell_type": "code",
   "execution_count": null,
   "metadata": {},
   "outputs": [],
   "source": [
    "# Deck \n",
    "\n",
    "cards = [\"Ace\", \"Two\", \"Three\", \"Four\", \"Five\", \"Six\", \"Seven\", \"Eight\", \"Nine\", \"Ten\", \"Jack\", \"Queen\", \"King\"]\n",
    "\n",
    "deck = []\n",
    "\n",
    "suits = [\"Spades\", \"Diamonds\", \"Clubs\", \"Hearts\"]\n",
    "suit = 0\n",
    "for card in range(52):\n",
    "    if card >= 13 * (suit + 1):\n",
    "        suit += 1\n",
    "    deck.append(str(cards[card % 13] + \"|\" + suits[suit]))\n",
    "\n",
    "print(deck)"
   ]
  }
 ],
 "metadata": {
  "language_info": {
   "name": "python"
  },
  "orig_nbformat": 4
 },
 "nbformat": 4,
 "nbformat_minor": 2
}
